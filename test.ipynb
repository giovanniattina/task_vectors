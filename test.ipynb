{
 "cells": [
  {
   "cell_type": "code",
   "execution_count": null,
   "id": "546cb163",
   "metadata": {},
   "outputs": [],
   "source": [
    "%load_ext autoreload\n",
    "%autoreload 2\n",
    "%reload_ext autoreload"
   ]
  },
  {
   "cell_type": "code",
   "execution_count": 2,
   "id": "cde6eb33",
   "metadata": {},
   "outputs": [
    {
     "name": "stderr",
     "output_type": "stream",
     "text": [
      "/Users/giovanniattina/miniconda3/envs/task-vectors/lib/python3.10/site-packages/tqdm/auto.py:22: TqdmWarning: IProgress not found. Please update jupyter and ipywidgets. See https://ipywidgets.readthedocs.io/en/stable/user_install.html\n",
      "  from .autonotebook import tqdm as notebook_tqdm\n"
     ]
    }
   ],
   "source": [
    "import torch\n",
    "import sys\n",
    "\n",
    "from src.task_vectors import TaskVector\n",
    "from src.task_vectors_adapted import TaskVectorAdapted\n",
    "from src.eval import eval_single_dataset\n",
    "from src.args import parse_arguments"
   ]
  },
  {
   "cell_type": "code",
   "execution_count": 3,
   "id": "87f5ac20",
   "metadata": {},
   "outputs": [],
   "source": [
    "# Config\n",
    "dataset = 'MNIST'\n",
    "model = 'ViT-L-14'\n",
    "\n",
    "sys.argv = [\n",
    "    'notebook',  # script name\n",
    "    '--data-location', 'datasets',\n",
    "    '--model', f'{model}',\n",
    "    '--save', f'checkpoints/{model}',\n",
    "    '--batch-size', '128'\n",
    "]\n",
    "args = parse_arguments()\n",
    "\n",
    "\n",
    "pretrained_checkpoint = f'checkpoints/{model}/zeroshot.pt'\n",
    "finetuned_checkpoint = f'checkpoints/{model}/{dataset}/finetuned.pt'"
   ]
  },
  {
   "cell_type": "code",
   "execution_count": 4,
   "id": "b9032959",
   "metadata": {},
   "outputs": [
    {
     "data": {
      "text/plain": [
       "Namespace(data_location='datasets', eval_datasets=None, train_dataset=None, exp_name=None, results_db=None, model='ViT-L-14', batch_size=128, lr=0.001, wd=0.1, ls=0.0, warmup_length=500, epochs=10, load=None, save='checkpoints/ViT-L-14', cache_dir=None, openclip_cachedir='/gscratch/efml/gamaga/.cache/open_clip', device='cpu')"
      ]
     },
     "execution_count": 4,
     "metadata": {},
     "output_type": "execute_result"
    }
   ],
   "source": [
    "args"
   ]
  },
  {
   "cell_type": "markdown",
   "id": "87d5b050",
   "metadata": {},
   "source": [
    "# Create the task vector\n"
   ]
  },
  {
   "cell_type": "code",
   "execution_count": 5,
   "id": "1b45e060",
   "metadata": {},
   "outputs": [],
   "source": [
    "task_vector_subtract = TaskVectorAdapted(\n",
    "    pretrained_checkpoint=pretrained_checkpoint,\n",
    "    finetuned_checkpoint=finetuned_checkpoint,\n",
    "    operation='subtract')\n",
    "\n",
    "task_vector_add = TaskVectorAdapted(\n",
    "    pretrained_checkpoint=pretrained_checkpoint,\n",
    "    finetuned_checkpoint=finetuned_checkpoint,\n",
    "    operation='add')"
   ]
  },
  {
   "cell_type": "code",
   "execution_count": 6,
   "id": "d826e247",
   "metadata": {},
   "outputs": [],
   "source": [
    "task_vector_multiply = TaskVectorAdapted(\n",
    "    pretrained_checkpoint=pretrained_checkpoint,\n",
    "    finetuned_checkpoint=finetuned_checkpoint,\n",
    "    operation='multiply')"
   ]
  },
  {
   "cell_type": "code",
   "execution_count": 7,
   "id": "048663c3",
   "metadata": {},
   "outputs": [],
   "source": [
    "task_vector_divide = TaskVectorAdapted(\n",
    "    pretrained_checkpoint=pretrained_checkpoint,\n",
    "    finetuned_checkpoint=finetuned_checkpoint,\n",
    "    operation='divide')"
   ]
  },
  {
   "cell_type": "code",
   "execution_count": 8,
   "id": "5103ea8a",
   "metadata": {},
   "outputs": [],
   "source": [
    "task_vector = TaskVector(pretrained_checkpoint, finetuned_checkpoint)\n"
   ]
  },
  {
   "cell_type": "code",
   "execution_count": 9,
   "id": "173192e7",
   "metadata": {},
   "outputs": [
    {
     "data": {
      "text/plain": [
       "<src.task_vectors.TaskVector at 0x1064e93c0>"
      ]
     },
     "execution_count": 9,
     "metadata": {},
     "output_type": "execute_result"
    }
   ],
   "source": [
    "task_vector \n"
   ]
  },
  {
   "cell_type": "code",
   "execution_count": 10,
   "id": "e8f41b9d",
   "metadata": {},
   "outputs": [],
   "source": [
    "# Negate the task vector\n",
    "neg_task_vector = -task_vector"
   ]
  },
  {
   "cell_type": "code",
   "execution_count": 11,
   "id": "7f76c995",
   "metadata": {},
   "outputs": [],
   "source": [
    "# Apply the task vector\n",
    "image_encoder = neg_task_vector.apply_to(pretrained_checkpoint, scaling_coef=0.5)"
   ]
  },
  {
   "cell_type": "markdown",
   "id": "6ef6c64a",
   "metadata": {},
   "source": [
    "# Evaluate\n"
   ]
  },
  {
   "cell_type": "code",
   "execution_count": null,
   "id": "ebc189a6",
   "metadata": {},
   "outputs": [],
   "source": [
    "dataset\n"
   ]
  },
  {
   "cell_type": "code",
   "execution_count": 12,
   "id": "d349df05",
   "metadata": {},
   "outputs": [],
   "source": [
    "#eval_single_dataset(image_encoder, dataset, args)"
   ]
  }
 ],
 "metadata": {
  "kernelspec": {
   "display_name": "task-vectors",
   "language": "python",
   "name": "python3"
  },
  "language_info": {
   "codemirror_mode": {
    "name": "ipython",
    "version": 3
   },
   "file_extension": ".py",
   "mimetype": "text/x-python",
   "name": "python",
   "nbconvert_exporter": "python",
   "pygments_lexer": "ipython3",
   "version": "3.10.18"
  }
 },
 "nbformat": 4,
 "nbformat_minor": 5
}
