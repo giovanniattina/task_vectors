{
 "cells": [
  {
   "cell_type": "code",
   "execution_count": 1,
   "id": "d06ca4e3",
   "metadata": {},
   "outputs": [],
   "source": [
    "%load_ext autoreload\n",
    "%autoreload 2\n",
    "%reload_ext autoreload"
   ]
  },
  {
   "cell_type": "code",
   "execution_count": 6,
   "id": "ee6de8c0",
   "metadata": {},
   "outputs": [],
   "source": [
    "import sys, os\n",
    "import torch\n",
    "\n",
    "sys.path.append(os.path.abspath('../'))\n",
    "\n",
    "\n",
    "from src.task_vectors_adapted import TaskVectorAdapted\n",
    "from src.eval import eval_single_dataset\n",
    "from src.args import parse_arguments "
   ]
  },
  {
   "cell_type": "code",
   "execution_count": 7,
   "id": "4bda41cb",
   "metadata": {},
   "outputs": [],
   "source": [
    "from src.datasets import registry"
   ]
  },
  {
   "cell_type": "code",
   "execution_count": 8,
   "id": "e2ad4e02",
   "metadata": {},
   "outputs": [
    {
     "data": {
      "text/plain": [
       "{'CIFAR10': src.datasets.cifar10.CIFAR10,\n",
       " 'CIFAR100': src.datasets.cifar100.CIFAR100,\n",
       " 'Cars': src.datasets.cars.Cars,\n",
       " 'DTD': src.datasets.dtd.DTD,\n",
       " 'EuroSAT': src.datasets.eurosat.EuroSAT,\n",
       " 'EuroSATVal': src.datasets.eurosat.EuroSATVal,\n",
       " 'GTSRB': src.datasets.gtsrb.GTSRB,\n",
       " 'ImageNet': src.datasets.imagenet.ImageNet,\n",
       " 'MNIST': src.datasets.mnist.MNIST,\n",
       " 'RESISC45': src.datasets.resisc45.RESISC45,\n",
       " 'STL10': src.datasets.stl10.STL10,\n",
       " 'SUN397': src.datasets.sun397.SUN397,\n",
       " 'SVHN': src.datasets.svhn.SVHN}"
      ]
     },
     "execution_count": 8,
     "metadata": {},
     "output_type": "execute_result"
    }
   ],
   "source": [
    "registry.registry"
   ]
  },
  {
   "cell_type": "code",
   "execution_count": 9,
   "id": "6b8bba01",
   "metadata": {},
   "outputs": [],
   "source": [
    "#Config\n",
    "datasets = ['Cars', 'MNIST']\n",
    "model = 'ViT-L-14'\n",
    "\n",
    "sys.argv = [\n",
    "    'notebook',  # script name\n",
    "    '--data-location', '../datasets',\n",
    "    '--model', f'../{model}',\n",
    "    '--save', f'../checkpoints/{model}',\n",
    "    '--batch-size', '128'\n",
    "]\n",
    "args = parse_arguments()\n",
    "\n",
    "\n",
    "pretrained_checkpoint = f'../checkpoints/{model}/zeroshot.pt'\n",
    "finetuned_checkpoints = [f'../checkpoints/{model}/{dataset}/finetuned.pt' for dataset in datasets]"
   ]
  },
  {
   "cell_type": "code",
   "execution_count": 10,
   "id": "4dc884f0",
   "metadata": {},
   "outputs": [],
   "source": [
    "operations = ['subtract', 'add', 'multiply', 'divide']\n"
   ]
  },
  {
   "cell_type": "code",
   "execution_count": null,
   "id": "e56ff619",
   "metadata": {},
   "outputs": [
    {
     "name": "stdout",
     "output_type": "stream",
     "text": [
      "Testing dataset: Cars\n",
      "Testing operation: subtract\n",
      "Iteration 1/10\n",
      "Classification head for ../ViT-L-14 on Cars exists at ../checkpoints/ViT-L-14/head_Cars.pt\n",
      "Loading classification head from ../checkpoints/ViT-L-14/head_Cars.pt\n"
     ]
    },
    {
     "name": "stderr",
     "output_type": "stream",
     "text": [
      "/Users/giovanniattina/miniconda3/envs/task-vectors/lib/python3.10/site-packages/torch/utils/data/dataloader.py:563: UserWarning: This DataLoader will create 16 worker processes in total. Our suggested max number of worker in current system is 8 (`cpuset` is not taken into account), which is smaller than what this DataLoader is going to create. Please be aware that excessive worker creation might get DataLoader running slow or even freeze, lower the worker number to avoid potential slowness/freeze if necessary.\n",
      "  warnings.warn(_create_warning_msg(\n",
      "  0%|          | 0/63 [01:20<?, ?it/s]\n"
     ]
    },
    {
     "name": "stdout",
     "output_type": "stream",
     "text": [
      "Done evaluating on Cars. Accuracy: 75.78%\n",
      "Iteration 2/10\n",
      "Classification head for ../ViT-L-14 on Cars exists at ../checkpoints/ViT-L-14/head_Cars.pt\n",
      "Loading classification head from ../checkpoints/ViT-L-14/head_Cars.pt\n"
     ]
    },
    {
     "name": "stderr",
     "output_type": "stream",
     "text": [
      "  0%|          | 0/63 [01:24<?, ?it/s]\n"
     ]
    },
    {
     "name": "stdout",
     "output_type": "stream",
     "text": [
      "Done evaluating on Cars. Accuracy: 81.25%\n",
      "Iteration 3/10\n",
      "Classification head for ../ViT-L-14 on Cars exists at ../checkpoints/ViT-L-14/head_Cars.pt\n",
      "Loading classification head from ../checkpoints/ViT-L-14/head_Cars.pt\n"
     ]
    },
    {
     "name": "stderr",
     "output_type": "stream",
     "text": [
      "  0%|          | 0/63 [01:00<?, ?it/s]\n"
     ]
    },
    {
     "name": "stdout",
     "output_type": "stream",
     "text": [
      "Done evaluating on Cars. Accuracy: 86.72%\n",
      "Iteration 4/10\n",
      "Classification head for ../ViT-L-14 on Cars exists at ../checkpoints/ViT-L-14/head_Cars.pt\n",
      "Loading classification head from ../checkpoints/ViT-L-14/head_Cars.pt\n"
     ]
    },
    {
     "name": "stderr",
     "output_type": "stream",
     "text": [
      "  0%|          | 0/63 [00:55<?, ?it/s]\n"
     ]
    },
    {
     "name": "stdout",
     "output_type": "stream",
     "text": [
      "Done evaluating on Cars. Accuracy: 86.72%\n",
      "Iteration 5/10\n",
      "Classification head for ../ViT-L-14 on Cars exists at ../checkpoints/ViT-L-14/head_Cars.pt\n",
      "Loading classification head from ../checkpoints/ViT-L-14/head_Cars.pt\n"
     ]
    },
    {
     "name": "stderr",
     "output_type": "stream",
     "text": [
      "  0%|          | 0/63 [00:51<?, ?it/s]\n"
     ]
    },
    {
     "name": "stdout",
     "output_type": "stream",
     "text": [
      "Done evaluating on Cars. Accuracy: 89.84%\n",
      "Iteration 6/10\n",
      "Classification head for ../ViT-L-14 on Cars exists at ../checkpoints/ViT-L-14/head_Cars.pt\n",
      "Loading classification head from ../checkpoints/ViT-L-14/head_Cars.pt\n"
     ]
    },
    {
     "name": "stderr",
     "output_type": "stream",
     "text": [
      "  0%|          | 0/63 [01:41<?, ?it/s]\n"
     ]
    },
    {
     "name": "stdout",
     "output_type": "stream",
     "text": [
      "Done evaluating on Cars. Accuracy: 91.41%\n",
      "Iteration 7/10\n",
      "Classification head for ../ViT-L-14 on Cars exists at ../checkpoints/ViT-L-14/head_Cars.pt\n",
      "Loading classification head from ../checkpoints/ViT-L-14/head_Cars.pt\n"
     ]
    },
    {
     "name": "stderr",
     "output_type": "stream",
     "text": [
      "  0%|          | 0/63 [01:11<?, ?it/s]\n"
     ]
    },
    {
     "name": "stdout",
     "output_type": "stream",
     "text": [
      "Done evaluating on Cars. Accuracy: 92.19%\n",
      "Iteration 8/10\n",
      "Classification head for ../ViT-L-14 on Cars exists at ../checkpoints/ViT-L-14/head_Cars.pt\n",
      "Loading classification head from ../checkpoints/ViT-L-14/head_Cars.pt\n"
     ]
    },
    {
     "name": "stderr",
     "output_type": "stream",
     "text": [
      "  0%|          | 0/63 [01:06<?, ?it/s]\n"
     ]
    },
    {
     "name": "stdout",
     "output_type": "stream",
     "text": [
      "Done evaluating on Cars. Accuracy: 92.97%\n",
      "Iteration 9/10\n",
      "Classification head for ../ViT-L-14 on Cars exists at ../checkpoints/ViT-L-14/head_Cars.pt\n",
      "Loading classification head from ../checkpoints/ViT-L-14/head_Cars.pt\n"
     ]
    },
    {
     "name": "stderr",
     "output_type": "stream",
     "text": [
      "  0%|          | 0/63 [00:52<?, ?it/s]\n"
     ]
    },
    {
     "name": "stdout",
     "output_type": "stream",
     "text": [
      "Done evaluating on Cars. Accuracy: 92.19%\n",
      "Iteration 10/10\n",
      "Classification head for ../ViT-L-14 on Cars exists at ../checkpoints/ViT-L-14/head_Cars.pt\n",
      "Loading classification head from ../checkpoints/ViT-L-14/head_Cars.pt\n"
     ]
    },
    {
     "name": "stderr",
     "output_type": "stream",
     "text": [
      "  0%|          | 0/63 [01:23<?, ?it/s]\n"
     ]
    },
    {
     "name": "stdout",
     "output_type": "stream",
     "text": [
      "Done evaluating on Cars. Accuracy: 94.53%\n",
      "Testing operation: add\n",
      "Iteration 1/10\n",
      "Classification head for ../ViT-L-14 on Cars exists at ../checkpoints/ViT-L-14/head_Cars.pt\n",
      "Loading classification head from ../checkpoints/ViT-L-14/head_Cars.pt\n"
     ]
    },
    {
     "name": "stderr",
     "output_type": "stream",
     "text": [
      "  0%|          | 0/63 [16:06<?, ?it/s]\n"
     ]
    },
    {
     "name": "stdout",
     "output_type": "stream",
     "text": [
      "Done evaluating on Cars. Accuracy: 75.78%\n",
      "Iteration 2/10\n",
      "Classification head for ../ViT-L-14 on Cars exists at ../checkpoints/ViT-L-14/head_Cars.pt\n",
      "Loading classification head from ../checkpoints/ViT-L-14/head_Cars.pt\n"
     ]
    },
    {
     "name": "stderr",
     "output_type": "stream",
     "text": [
      "  0%|          | 0/63 [16:04<?, ?it/s]\n"
     ]
    },
    {
     "name": "stdout",
     "output_type": "stream",
     "text": [
      "Done evaluating on Cars. Accuracy: 0.00%\n",
      "Iteration 3/10\n",
      "Classification head for ../ViT-L-14 on Cars exists at ../checkpoints/ViT-L-14/head_Cars.pt\n",
      "Loading classification head from ../checkpoints/ViT-L-14/head_Cars.pt\n"
     ]
    },
    {
     "name": "stderr",
     "output_type": "stream",
     "text": [
      "  0%|          | 0/63 [01:17<?, ?it/s]\n"
     ]
    },
    {
     "name": "stdout",
     "output_type": "stream",
     "text": [
      "Done evaluating on Cars. Accuracy: 0.00%\n",
      "Iteration 4/10\n",
      "Classification head for ../ViT-L-14 on Cars exists at ../checkpoints/ViT-L-14/head_Cars.pt\n",
      "Loading classification head from ../checkpoints/ViT-L-14/head_Cars.pt\n"
     ]
    },
    {
     "name": "stderr",
     "output_type": "stream",
     "text": [
      "  0%|          | 0/63 [00:53<?, ?it/s]\n"
     ]
    },
    {
     "name": "stdout",
     "output_type": "stream",
     "text": [
      "Done evaluating on Cars. Accuracy: 0.78%\n",
      "Iteration 5/10\n",
      "Classification head for ../ViT-L-14 on Cars exists at ../checkpoints/ViT-L-14/head_Cars.pt\n",
      "Loading classification head from ../checkpoints/ViT-L-14/head_Cars.pt\n"
     ]
    },
    {
     "name": "stderr",
     "output_type": "stream",
     "text": [
      "  0%|          | 0/63 [01:31<?, ?it/s]\n"
     ]
    },
    {
     "name": "stdout",
     "output_type": "stream",
     "text": [
      "Done evaluating on Cars. Accuracy: 1.56%\n",
      "Iteration 6/10\n",
      "Classification head for ../ViT-L-14 on Cars exists at ../checkpoints/ViT-L-14/head_Cars.pt\n",
      "Loading classification head from ../checkpoints/ViT-L-14/head_Cars.pt\n"
     ]
    },
    {
     "name": "stderr",
     "output_type": "stream",
     "text": [
      "  0%|          | 0/63 [01:07<?, ?it/s]\n"
     ]
    },
    {
     "name": "stdout",
     "output_type": "stream",
     "text": [
      "Done evaluating on Cars. Accuracy: 0.00%\n",
      "Iteration 7/10\n",
      "Classification head for ../ViT-L-14 on Cars exists at ../checkpoints/ViT-L-14/head_Cars.pt\n",
      "Loading classification head from ../checkpoints/ViT-L-14/head_Cars.pt\n"
     ]
    },
    {
     "name": "stderr",
     "output_type": "stream",
     "text": [
      "  0%|          | 0/63 [01:21<?, ?it/s]\n"
     ]
    },
    {
     "name": "stdout",
     "output_type": "stream",
     "text": [
      "Done evaluating on Cars. Accuracy: 0.00%\n",
      "Iteration 8/10\n",
      "Classification head for ../ViT-L-14 on Cars exists at ../checkpoints/ViT-L-14/head_Cars.pt\n",
      "Loading classification head from ../checkpoints/ViT-L-14/head_Cars.pt\n"
     ]
    },
    {
     "name": "stderr",
     "output_type": "stream",
     "text": [
      "  0%|          | 0/63 [01:26<?, ?it/s]\n"
     ]
    },
    {
     "name": "stdout",
     "output_type": "stream",
     "text": [
      "Done evaluating on Cars. Accuracy: 0.00%\n",
      "Iteration 9/10\n",
      "Classification head for ../ViT-L-14 on Cars exists at ../checkpoints/ViT-L-14/head_Cars.pt\n",
      "Loading classification head from ../checkpoints/ViT-L-14/head_Cars.pt\n"
     ]
    },
    {
     "name": "stderr",
     "output_type": "stream",
     "text": [
      "  0%|          | 0/63 [01:22<?, ?it/s]\n"
     ]
    },
    {
     "name": "stdout",
     "output_type": "stream",
     "text": [
      "Done evaluating on Cars. Accuracy: 0.00%\n",
      "Iteration 10/10\n",
      "Classification head for ../ViT-L-14 on Cars exists at ../checkpoints/ViT-L-14/head_Cars.pt\n",
      "Loading classification head from ../checkpoints/ViT-L-14/head_Cars.pt\n"
     ]
    },
    {
     "name": "stderr",
     "output_type": "stream",
     "text": [
      "  0%|          | 0/63 [01:03<?, ?it/s]\n"
     ]
    },
    {
     "name": "stdout",
     "output_type": "stream",
     "text": [
      "Done evaluating on Cars. Accuracy: 0.78%\n",
      "Testing operation: multiply\n",
      "Iteration 1/10\n",
      "Classification head for ../ViT-L-14 on Cars exists at ../checkpoints/ViT-L-14/head_Cars.pt\n",
      "Loading classification head from ../checkpoints/ViT-L-14/head_Cars.pt\n"
     ]
    },
    {
     "name": "stderr",
     "output_type": "stream",
     "text": [
      "  0%|          | 0/63 [01:18<?, ?it/s]\n"
     ]
    },
    {
     "name": "stdout",
     "output_type": "stream",
     "text": [
      "Done evaluating on Cars. Accuracy: 75.78%\n",
      "Iteration 2/10\n",
      "Classification head for ../ViT-L-14 on Cars exists at ../checkpoints/ViT-L-14/head_Cars.pt\n",
      "Loading classification head from ../checkpoints/ViT-L-14/head_Cars.pt\n"
     ]
    },
    {
     "name": "stderr",
     "output_type": "stream",
     "text": [
      "  0%|          | 0/63 [01:24<?, ?it/s]\n"
     ]
    },
    {
     "name": "stdout",
     "output_type": "stream",
     "text": [
      "Done evaluating on Cars. Accuracy: 74.22%\n",
      "Iteration 3/10\n",
      "Classification head for ../ViT-L-14 on Cars exists at ../checkpoints/ViT-L-14/head_Cars.pt\n",
      "Loading classification head from ../checkpoints/ViT-L-14/head_Cars.pt\n"
     ]
    },
    {
     "name": "stderr",
     "output_type": "stream",
     "text": [
      "  0%|          | 0/63 [01:04<?, ?it/s]\n"
     ]
    },
    {
     "name": "stdout",
     "output_type": "stream",
     "text": [
      "Done evaluating on Cars. Accuracy: 13.28%\n",
      "Iteration 4/10\n",
      "Classification head for ../ViT-L-14 on Cars exists at ../checkpoints/ViT-L-14/head_Cars.pt\n",
      "Loading classification head from ../checkpoints/ViT-L-14/head_Cars.pt\n"
     ]
    },
    {
     "name": "stderr",
     "output_type": "stream",
     "text": [
      "  0%|          | 0/63 [01:23<?, ?it/s]\n"
     ]
    },
    {
     "name": "stdout",
     "output_type": "stream",
     "text": [
      "Done evaluating on Cars. Accuracy: 1.56%\n",
      "Iteration 5/10\n",
      "Classification head for ../ViT-L-14 on Cars exists at ../checkpoints/ViT-L-14/head_Cars.pt\n",
      "Loading classification head from ../checkpoints/ViT-L-14/head_Cars.pt\n"
     ]
    },
    {
     "name": "stderr",
     "output_type": "stream",
     "text": [
      "  0%|          | 0/63 [01:41<?, ?it/s]\n"
     ]
    },
    {
     "name": "stdout",
     "output_type": "stream",
     "text": [
      "Done evaluating on Cars. Accuracy: 0.00%\n",
      "Iteration 6/10\n",
      "Classification head for ../ViT-L-14 on Cars exists at ../checkpoints/ViT-L-14/head_Cars.pt\n",
      "Loading classification head from ../checkpoints/ViT-L-14/head_Cars.pt\n"
     ]
    },
    {
     "name": "stderr",
     "output_type": "stream",
     "text": [
      "  0%|          | 0/63 [01:23<?, ?it/s]\n"
     ]
    },
    {
     "name": "stdout",
     "output_type": "stream",
     "text": [
      "Done evaluating on Cars. Accuracy: 1.56%\n",
      "Iteration 7/10\n",
      "Classification head for ../ViT-L-14 on Cars exists at ../checkpoints/ViT-L-14/head_Cars.pt\n",
      "Loading classification head from ../checkpoints/ViT-L-14/head_Cars.pt\n"
     ]
    },
    {
     "name": "stderr",
     "output_type": "stream",
     "text": [
      "  0%|          | 0/63 [01:26<?, ?it/s]\n"
     ]
    },
    {
     "name": "stdout",
     "output_type": "stream",
     "text": [
      "Done evaluating on Cars. Accuracy: 0.78%\n",
      "Iteration 8/10\n",
      "Classification head for ../ViT-L-14 on Cars exists at ../checkpoints/ViT-L-14/head_Cars.pt\n",
      "Loading classification head from ../checkpoints/ViT-L-14/head_Cars.pt\n"
     ]
    },
    {
     "name": "stderr",
     "output_type": "stream",
     "text": [
      "  0%|          | 0/63 [01:13<?, ?it/s]\n"
     ]
    },
    {
     "name": "stdout",
     "output_type": "stream",
     "text": [
      "Done evaluating on Cars. Accuracy: 0.78%\n",
      "Iteration 9/10\n",
      "Classification head for ../ViT-L-14 on Cars exists at ../checkpoints/ViT-L-14/head_Cars.pt\n",
      "Loading classification head from ../checkpoints/ViT-L-14/head_Cars.pt\n"
     ]
    },
    {
     "name": "stderr",
     "output_type": "stream",
     "text": [
      "  0%|          | 0/63 [01:41<?, ?it/s]\n"
     ]
    },
    {
     "name": "stdout",
     "output_type": "stream",
     "text": [
      "Done evaluating on Cars. Accuracy: 0.00%\n",
      "Iteration 10/10\n",
      "Classification head for ../ViT-L-14 on Cars exists at ../checkpoints/ViT-L-14/head_Cars.pt\n",
      "Loading classification head from ../checkpoints/ViT-L-14/head_Cars.pt\n"
     ]
    },
    {
     "name": "stderr",
     "output_type": "stream",
     "text": [
      "  0%|          | 0/63 [00:00<?, ?it/s]ERROR: Unexpected segmentation fault encountered in worker.\n",
      "\u0000Exception ignored in: <function _MultiProcessingDataLoaderIter.__del__ at 0x118383250>\n",
      "Traceback (most recent call last):\n",
      "  File \"/Users/giovanniattina/miniconda3/envs/task-vectors/lib/python3.10/site-packages/torch/utils/data/dataloader.py\", line 1510, in __del__\n",
      "    self._shutdown_workers()\n",
      "  File \"/Users/giovanniattina/miniconda3/envs/task-vectors/lib/python3.10/site-packages/torch/utils/data/dataloader.py\", line 1474, in _shutdown_workers\n",
      "    w.join(timeout=_utils.MP_STATUS_CHECK_INTERVAL)\n",
      "  File \"/Users/giovanniattina/miniconda3/envs/task-vectors/lib/python3.10/multiprocessing/process.py\", line 149, in join\n",
      "    res = self._popen.wait(timeout)\n",
      "  File \"/Users/giovanniattina/miniconda3/envs/task-vectors/lib/python3.10/multiprocessing/popen_fork.py\", line 40, in wait\n",
      "    if not wait([self.sentinel], timeout):\n",
      "  File \"/Users/giovanniattina/miniconda3/envs/task-vectors/lib/python3.10/multiprocessing/connection.py\", line 931, in wait\n",
      "    ready = selector.select(timeout)\n",
      "  File \"/Users/giovanniattina/miniconda3/envs/task-vectors/lib/python3.10/selectors.py\", line 416, in select\n",
      "    fd_event_list = self._selector.poll(timeout)\n",
      "  File \"/Users/giovanniattina/miniconda3/envs/task-vectors/lib/python3.10/site-packages/torch/utils/data/_utils/signal_handling.py\", line 66, in handler\n",
      "    _error_if_any_worker_fails()\n",
      "RuntimeError: DataLoader worker (pid 4223) is killed by signal: Segmentation fault: 11. \n",
      "  0%|          | 0/63 [00:46<?, ?it/s]\n"
     ]
    },
    {
     "name": "stdout",
     "output_type": "stream",
     "text": [
      "Done evaluating on Cars. Accuracy: 0.00%\n",
      "Testing operation: divide\n",
      "Iteration 1/10\n",
      "Classification head for ../ViT-L-14 on Cars exists at ../checkpoints/ViT-L-14/head_Cars.pt\n",
      "Loading classification head from ../checkpoints/ViT-L-14/head_Cars.pt\n"
     ]
    },
    {
     "name": "stderr",
     "output_type": "stream",
     "text": [
      "  0%|          | 0/63 [01:16<?, ?it/s]\n"
     ]
    },
    {
     "name": "stdout",
     "output_type": "stream",
     "text": [
      "Done evaluating on Cars. Accuracy: 0.78%\n",
      "Iteration 2/10\n",
      "Classification head for ../ViT-L-14 on Cars exists at ../checkpoints/ViT-L-14/head_Cars.pt\n",
      "Loading classification head from ../checkpoints/ViT-L-14/head_Cars.pt\n"
     ]
    },
    {
     "name": "stderr",
     "output_type": "stream",
     "text": [
      "  0%|          | 0/63 [01:28<?, ?it/s]\n"
     ]
    },
    {
     "name": "stdout",
     "output_type": "stream",
     "text": [
      "Done evaluating on Cars. Accuracy: 0.78%\n",
      "Iteration 3/10\n",
      "Classification head for ../ViT-L-14 on Cars exists at ../checkpoints/ViT-L-14/head_Cars.pt\n",
      "Loading classification head from ../checkpoints/ViT-L-14/head_Cars.pt\n"
     ]
    },
    {
     "name": "stderr",
     "output_type": "stream",
     "text": [
      "  0%|          | 0/63 [01:15<?, ?it/s]\n"
     ]
    },
    {
     "name": "stdout",
     "output_type": "stream",
     "text": [
      "Done evaluating on Cars. Accuracy: 0.78%\n",
      "Iteration 4/10\n",
      "Classification head for ../ViT-L-14 on Cars exists at ../checkpoints/ViT-L-14/head_Cars.pt\n",
      "Loading classification head from ../checkpoints/ViT-L-14/head_Cars.pt\n"
     ]
    },
    {
     "name": "stderr",
     "output_type": "stream",
     "text": [
      "  0%|          | 0/63 [00:59<?, ?it/s]\n"
     ]
    },
    {
     "name": "stdout",
     "output_type": "stream",
     "text": [
      "Done evaluating on Cars. Accuracy: 0.78%\n",
      "Iteration 5/10\n",
      "Classification head for ../ViT-L-14 on Cars exists at ../checkpoints/ViT-L-14/head_Cars.pt\n",
      "Loading classification head from ../checkpoints/ViT-L-14/head_Cars.pt\n"
     ]
    },
    {
     "name": "stderr",
     "output_type": "stream",
     "text": [
      "  0%|          | 0/63 [01:24<?, ?it/s]\n"
     ]
    },
    {
     "name": "stdout",
     "output_type": "stream",
     "text": [
      "Done evaluating on Cars. Accuracy: 0.78%\n",
      "Iteration 6/10\n",
      "Classification head for ../ViT-L-14 on Cars exists at ../checkpoints/ViT-L-14/head_Cars.pt\n",
      "Loading classification head from ../checkpoints/ViT-L-14/head_Cars.pt\n"
     ]
    },
    {
     "name": "stderr",
     "output_type": "stream",
     "text": [
      "  0%|          | 0/63 [01:05<?, ?it/s]\n"
     ]
    },
    {
     "name": "stdout",
     "output_type": "stream",
     "text": [
      "Done evaluating on Cars. Accuracy: 0.78%\n",
      "Iteration 7/10\n",
      "Classification head for ../ViT-L-14 on Cars exists at ../checkpoints/ViT-L-14/head_Cars.pt\n",
      "Loading classification head from ../checkpoints/ViT-L-14/head_Cars.pt\n"
     ]
    },
    {
     "name": "stderr",
     "output_type": "stream",
     "text": [
      "  0%|          | 0/63 [01:05<?, ?it/s]\n"
     ]
    },
    {
     "name": "stdout",
     "output_type": "stream",
     "text": [
      "Done evaluating on Cars. Accuracy: 0.78%\n",
      "Iteration 8/10\n",
      "Classification head for ../ViT-L-14 on Cars exists at ../checkpoints/ViT-L-14/head_Cars.pt\n",
      "Loading classification head from ../checkpoints/ViT-L-14/head_Cars.pt\n"
     ]
    },
    {
     "name": "stderr",
     "output_type": "stream",
     "text": [
      "  0%|          | 0/63 [01:33<?, ?it/s]\n"
     ]
    },
    {
     "name": "stdout",
     "output_type": "stream",
     "text": [
      "Done evaluating on Cars. Accuracy: 0.78%\n",
      "Iteration 9/10\n",
      "Classification head for ../ViT-L-14 on Cars exists at ../checkpoints/ViT-L-14/head_Cars.pt\n",
      "Loading classification head from ../checkpoints/ViT-L-14/head_Cars.pt\n"
     ]
    },
    {
     "name": "stderr",
     "output_type": "stream",
     "text": [
      "  0%|          | 0/63 [01:04<?, ?it/s]\n"
     ]
    },
    {
     "name": "stdout",
     "output_type": "stream",
     "text": [
      "Done evaluating on Cars. Accuracy: 0.78%\n",
      "Iteration 10/10\n",
      "Classification head for ../ViT-L-14 on Cars exists at ../checkpoints/ViT-L-14/head_Cars.pt\n",
      "Loading classification head from ../checkpoints/ViT-L-14/head_Cars.pt\n"
     ]
    },
    {
     "name": "stderr",
     "output_type": "stream",
     "text": [
      "  0%|          | 0/63 [01:14<?, ?it/s]\n"
     ]
    },
    {
     "name": "stdout",
     "output_type": "stream",
     "text": [
      "Done evaluating on Cars. Accuracy: 0.78%\n",
      "Testing dataset: MNIST\n",
      "Testing operation: subtract\n",
      "Iteration 1/10\n",
      "Classification head for ../ViT-L-14 on MNIST exists at ../checkpoints/ViT-L-14/head_MNIST.pt\n",
      "Loading classification head from ../checkpoints/ViT-L-14/head_MNIST.pt\n"
     ]
    },
    {
     "name": "stderr",
     "output_type": "stream",
     "text": [
      "  0%|          | 0/79 [00:32<?, ?it/s]\n"
     ]
    },
    {
     "name": "stdout",
     "output_type": "stream",
     "text": [
      "Done evaluating on MNIST. Accuracy: 81.25%\n",
      "Iteration 2/10\n",
      "Classification head for ../ViT-L-14 on MNIST exists at ../checkpoints/ViT-L-14/head_MNIST.pt\n",
      "Loading classification head from ../checkpoints/ViT-L-14/head_MNIST.pt\n"
     ]
    },
    {
     "name": "stderr",
     "output_type": "stream",
     "text": [
      "  0%|          | 0/79 [00:33<?, ?it/s]\n"
     ]
    },
    {
     "name": "stdout",
     "output_type": "stream",
     "text": [
      "Done evaluating on MNIST. Accuracy: 96.88%\n",
      "Iteration 3/10\n",
      "Classification head for ../ViT-L-14 on MNIST exists at ../checkpoints/ViT-L-14/head_MNIST.pt\n",
      "Loading classification head from ../checkpoints/ViT-L-14/head_MNIST.pt\n"
     ]
    },
    {
     "name": "stderr",
     "output_type": "stream",
     "text": [
      "  0%|          | 0/79 [00:34<?, ?it/s]\n"
     ]
    },
    {
     "name": "stdout",
     "output_type": "stream",
     "text": [
      "Done evaluating on MNIST. Accuracy: 99.22%\n",
      "Iteration 4/10\n",
      "Classification head for ../ViT-L-14 on MNIST exists at ../checkpoints/ViT-L-14/head_MNIST.pt\n",
      "Loading classification head from ../checkpoints/ViT-L-14/head_MNIST.pt\n"
     ]
    },
    {
     "name": "stderr",
     "output_type": "stream",
     "text": [
      "  0%|          | 0/79 [00:36<?, ?it/s]\n"
     ]
    },
    {
     "name": "stdout",
     "output_type": "stream",
     "text": [
      "Done evaluating on MNIST. Accuracy: 100.00%\n",
      "Iteration 5/10\n",
      "Classification head for ../ViT-L-14 on MNIST exists at ../checkpoints/ViT-L-14/head_MNIST.pt\n",
      "Loading classification head from ../checkpoints/ViT-L-14/head_MNIST.pt\n"
     ]
    },
    {
     "name": "stderr",
     "output_type": "stream",
     "text": [
      "  0%|          | 0/79 [00:33<?, ?it/s]\n"
     ]
    },
    {
     "name": "stdout",
     "output_type": "stream",
     "text": [
      "Done evaluating on MNIST. Accuracy: 100.00%\n",
      "Iteration 6/10\n",
      "Classification head for ../ViT-L-14 on MNIST exists at ../checkpoints/ViT-L-14/head_MNIST.pt\n",
      "Loading classification head from ../checkpoints/ViT-L-14/head_MNIST.pt\n"
     ]
    },
    {
     "name": "stderr",
     "output_type": "stream",
     "text": [
      "  0%|          | 0/79 [00:34<?, ?it/s]\n"
     ]
    },
    {
     "name": "stdout",
     "output_type": "stream",
     "text": [
      "Done evaluating on MNIST. Accuracy: 100.00%\n",
      "Iteration 7/10\n",
      "Classification head for ../ViT-L-14 on MNIST exists at ../checkpoints/ViT-L-14/head_MNIST.pt\n",
      "Loading classification head from ../checkpoints/ViT-L-14/head_MNIST.pt\n"
     ]
    },
    {
     "name": "stderr",
     "output_type": "stream",
     "text": [
      "  0%|          | 0/79 [00:36<?, ?it/s]\n"
     ]
    },
    {
     "name": "stdout",
     "output_type": "stream",
     "text": [
      "Done evaluating on MNIST. Accuracy: 100.00%\n",
      "Iteration 8/10\n",
      "Classification head for ../ViT-L-14 on MNIST exists at ../checkpoints/ViT-L-14/head_MNIST.pt\n",
      "Loading classification head from ../checkpoints/ViT-L-14/head_MNIST.pt\n"
     ]
    },
    {
     "name": "stderr",
     "output_type": "stream",
     "text": [
      "  0%|          | 0/79 [00:47<?, ?it/s]\n"
     ]
    },
    {
     "name": "stdout",
     "output_type": "stream",
     "text": [
      "Done evaluating on MNIST. Accuracy: 100.00%\n",
      "Iteration 9/10\n",
      "Classification head for ../ViT-L-14 on MNIST exists at ../checkpoints/ViT-L-14/head_MNIST.pt\n",
      "Loading classification head from ../checkpoints/ViT-L-14/head_MNIST.pt\n"
     ]
    },
    {
     "name": "stderr",
     "output_type": "stream",
     "text": [
      "  0%|          | 0/79 [00:41<?, ?it/s]\n"
     ]
    },
    {
     "name": "stdout",
     "output_type": "stream",
     "text": [
      "Done evaluating on MNIST. Accuracy: 100.00%\n",
      "Iteration 10/10\n",
      "Classification head for ../ViT-L-14 on MNIST exists at ../checkpoints/ViT-L-14/head_MNIST.pt\n",
      "Loading classification head from ../checkpoints/ViT-L-14/head_MNIST.pt\n"
     ]
    },
    {
     "name": "stderr",
     "output_type": "stream",
     "text": [
      "  0%|          | 0/79 [00:46<?, ?it/s]\n"
     ]
    },
    {
     "name": "stdout",
     "output_type": "stream",
     "text": [
      "Done evaluating on MNIST. Accuracy: 100.00%\n",
      "Testing operation: add\n",
      "Iteration 1/10\n",
      "Classification head for ../ViT-L-14 on MNIST exists at ../checkpoints/ViT-L-14/head_MNIST.pt\n",
      "Loading classification head from ../checkpoints/ViT-L-14/head_MNIST.pt\n"
     ]
    },
    {
     "name": "stderr",
     "output_type": "stream",
     "text": [
      "  0%|          | 0/79 [00:38<?, ?it/s]\n"
     ]
    },
    {
     "name": "stdout",
     "output_type": "stream",
     "text": [
      "Done evaluating on MNIST. Accuracy: 81.25%\n",
      "Iteration 2/10\n",
      "Classification head for ../ViT-L-14 on MNIST exists at ../checkpoints/ViT-L-14/head_MNIST.pt\n",
      "Loading classification head from ../checkpoints/ViT-L-14/head_MNIST.pt\n"
     ]
    },
    {
     "name": "stderr",
     "output_type": "stream",
     "text": [
      "  0%|          | 0/79 [15:33<?, ?it/s]\n"
     ]
    },
    {
     "name": "stdout",
     "output_type": "stream",
     "text": [
      "Done evaluating on MNIST. Accuracy: 17.97%\n",
      "Iteration 3/10\n",
      "Classification head for ../ViT-L-14 on MNIST exists at ../checkpoints/ViT-L-14/head_MNIST.pt\n",
      "Loading classification head from ../checkpoints/ViT-L-14/head_MNIST.pt\n"
     ]
    },
    {
     "name": "stderr",
     "output_type": "stream",
     "text": [
      "  0%|          | 0/79 [00:38<?, ?it/s]\n"
     ]
    },
    {
     "name": "stdout",
     "output_type": "stream",
     "text": [
      "Done evaluating on MNIST. Accuracy: 10.16%\n",
      "Iteration 4/10\n",
      "Classification head for ../ViT-L-14 on MNIST exists at ../checkpoints/ViT-L-14/head_MNIST.pt\n",
      "Loading classification head from ../checkpoints/ViT-L-14/head_MNIST.pt\n"
     ]
    },
    {
     "name": "stderr",
     "output_type": "stream",
     "text": [
      "  0%|          | 0/79 [00:40<?, ?it/s]\n"
     ]
    },
    {
     "name": "stdout",
     "output_type": "stream",
     "text": [
      "Done evaluating on MNIST. Accuracy: 11.72%\n",
      "Iteration 5/10\n",
      "Classification head for ../ViT-L-14 on MNIST exists at ../checkpoints/ViT-L-14/head_MNIST.pt\n",
      "Loading classification head from ../checkpoints/ViT-L-14/head_MNIST.pt\n"
     ]
    },
    {
     "name": "stderr",
     "output_type": "stream",
     "text": [
      "  0%|          | 0/79 [00:50<?, ?it/s]\n"
     ]
    },
    {
     "name": "stdout",
     "output_type": "stream",
     "text": [
      "Done evaluating on MNIST. Accuracy: 12.50%\n",
      "Iteration 6/10\n",
      "Classification head for ../ViT-L-14 on MNIST exists at ../checkpoints/ViT-L-14/head_MNIST.pt\n",
      "Loading classification head from ../checkpoints/ViT-L-14/head_MNIST.pt\n"
     ]
    },
    {
     "name": "stderr",
     "output_type": "stream",
     "text": [
      "  0%|          | 0/79 [00:42<?, ?it/s]\n"
     ]
    },
    {
     "name": "stdout",
     "output_type": "stream",
     "text": [
      "Done evaluating on MNIST. Accuracy: 12.50%\n",
      "Iteration 7/10\n",
      "Classification head for ../ViT-L-14 on MNIST exists at ../checkpoints/ViT-L-14/head_MNIST.pt\n",
      "Loading classification head from ../checkpoints/ViT-L-14/head_MNIST.pt\n"
     ]
    },
    {
     "name": "stderr",
     "output_type": "stream",
     "text": [
      "  0%|          | 0/79 [00:41<?, ?it/s]\n"
     ]
    },
    {
     "name": "stdout",
     "output_type": "stream",
     "text": [
      "Done evaluating on MNIST. Accuracy: 11.72%\n",
      "Iteration 8/10\n",
      "Classification head for ../ViT-L-14 on MNIST exists at ../checkpoints/ViT-L-14/head_MNIST.pt\n",
      "Loading classification head from ../checkpoints/ViT-L-14/head_MNIST.pt\n"
     ]
    },
    {
     "name": "stderr",
     "output_type": "stream",
     "text": [
      "  0%|          | 0/79 [00:43<?, ?it/s]\n"
     ]
    },
    {
     "name": "stdout",
     "output_type": "stream",
     "text": [
      "Done evaluating on MNIST. Accuracy: 12.50%\n",
      "Iteration 9/10\n",
      "Classification head for ../ViT-L-14 on MNIST exists at ../checkpoints/ViT-L-14/head_MNIST.pt\n",
      "Loading classification head from ../checkpoints/ViT-L-14/head_MNIST.pt\n"
     ]
    },
    {
     "name": "stderr",
     "output_type": "stream",
     "text": [
      "  0%|          | 0/79 [00:43<?, ?it/s]\n"
     ]
    },
    {
     "name": "stdout",
     "output_type": "stream",
     "text": [
      "Done evaluating on MNIST. Accuracy: 12.50%\n",
      "Iteration 10/10\n",
      "Classification head for ../ViT-L-14 on MNIST exists at ../checkpoints/ViT-L-14/head_MNIST.pt\n",
      "Loading classification head from ../checkpoints/ViT-L-14/head_MNIST.pt\n"
     ]
    },
    {
     "name": "stderr",
     "output_type": "stream",
     "text": [
      "  0%|          | 0/79 [00:43<?, ?it/s]\n"
     ]
    },
    {
     "name": "stdout",
     "output_type": "stream",
     "text": [
      "Done evaluating on MNIST. Accuracy: 6.25%\n",
      "Testing operation: multiply\n",
      "Iteration 1/10\n",
      "Classification head for ../ViT-L-14 on MNIST exists at ../checkpoints/ViT-L-14/head_MNIST.pt\n",
      "Loading classification head from ../checkpoints/ViT-L-14/head_MNIST.pt\n"
     ]
    },
    {
     "name": "stderr",
     "output_type": "stream",
     "text": [
      "  0%|          | 0/79 [00:45<?, ?it/s]\n"
     ]
    },
    {
     "name": "stdout",
     "output_type": "stream",
     "text": [
      "Done evaluating on MNIST. Accuracy: 81.25%\n",
      "Iteration 2/10\n",
      "Classification head for ../ViT-L-14 on MNIST exists at ../checkpoints/ViT-L-14/head_MNIST.pt\n",
      "Loading classification head from ../checkpoints/ViT-L-14/head_MNIST.pt\n"
     ]
    },
    {
     "name": "stderr",
     "output_type": "stream",
     "text": [
      "  0%|          | 0/79 [00:44<?, ?it/s]\n"
     ]
    },
    {
     "name": "stdout",
     "output_type": "stream",
     "text": [
      "Done evaluating on MNIST. Accuracy: 77.34%\n",
      "Iteration 3/10\n",
      "Classification head for ../ViT-L-14 on MNIST exists at ../checkpoints/ViT-L-14/head_MNIST.pt\n",
      "Loading classification head from ../checkpoints/ViT-L-14/head_MNIST.pt\n"
     ]
    },
    {
     "name": "stderr",
     "output_type": "stream",
     "text": [
      "  0%|          | 0/79 [00:44<?, ?it/s]\n"
     ]
    },
    {
     "name": "stdout",
     "output_type": "stream",
     "text": [
      "Done evaluating on MNIST. Accuracy: 21.09%\n",
      "Iteration 4/10\n",
      "Classification head for ../ViT-L-14 on MNIST exists at ../checkpoints/ViT-L-14/head_MNIST.pt\n",
      "Loading classification head from ../checkpoints/ViT-L-14/head_MNIST.pt\n"
     ]
    },
    {
     "name": "stderr",
     "output_type": "stream",
     "text": [
      "  0%|          | 0/79 [00:44<?, ?it/s]\n"
     ]
    },
    {
     "name": "stdout",
     "output_type": "stream",
     "text": [
      "Done evaluating on MNIST. Accuracy: 14.06%\n",
      "Iteration 5/10\n",
      "Classification head for ../ViT-L-14 on MNIST exists at ../checkpoints/ViT-L-14/head_MNIST.pt\n",
      "Loading classification head from ../checkpoints/ViT-L-14/head_MNIST.pt\n"
     ]
    },
    {
     "name": "stderr",
     "output_type": "stream",
     "text": [
      "  0%|          | 0/79 [00:46<?, ?it/s]\n"
     ]
    },
    {
     "name": "stdout",
     "output_type": "stream",
     "text": [
      "Done evaluating on MNIST. Accuracy: 10.16%\n",
      "Iteration 6/10\n",
      "Classification head for ../ViT-L-14 on MNIST exists at ../checkpoints/ViT-L-14/head_MNIST.pt\n",
      "Loading classification head from ../checkpoints/ViT-L-14/head_MNIST.pt\n"
     ]
    },
    {
     "name": "stderr",
     "output_type": "stream",
     "text": [
      "  0%|          | 0/79 [00:45<?, ?it/s]\n"
     ]
    },
    {
     "name": "stdout",
     "output_type": "stream",
     "text": [
      "Done evaluating on MNIST. Accuracy: 9.38%\n",
      "Iteration 7/10\n",
      "Classification head for ../ViT-L-14 on MNIST exists at ../checkpoints/ViT-L-14/head_MNIST.pt\n",
      "Loading classification head from ../checkpoints/ViT-L-14/head_MNIST.pt\n"
     ]
    },
    {
     "name": "stderr",
     "output_type": "stream",
     "text": [
      "  0%|          | 0/79 [00:00<?, ?it/s]"
     ]
    }
   ],
   "source": [
    "results = {}\n",
    "for dataset in datasets:\n",
    "    print(f\"Testing dataset: {dataset}\")\n",
    "\n",
    "    finetuned_checkpoint = f'../checkpoints/{model}/{dataset}/finetuned.pt'\n",
    "    for operation in operations:\n",
    "        task_vector = TaskVectorAdapted(\n",
    "            pretrained_checkpoint=pretrained_checkpoint,\n",
    "            finetuned_checkpoint=finetuned_checkpoint,\n",
    "            operation=operation\n",
    "        )\n",
    "        print(f\"Testing operation: {operation}\")\n",
    "        for i in range(10):\n",
    "            print(f\"Iteration {i+1}/10\")\n",
    "            encoder_test = task_vector.apply_to(pretrained_checkpoint, scaling_coef=0.1*i)\n",
    "            metrics = eval_single_dataset(encoder_test, dataset, args)\n",
    "            results[(dataset, operation, i)] = metrics\n",
    "            del encoder_test\n",
    "        del task_vector\n"
   ]
  },
  {
   "cell_type": "code",
   "execution_count": 1,
   "id": "0f27d2d0",
   "metadata": {},
   "outputs": [
    {
     "ename": "NameError",
     "evalue": "name 'results' is not defined",
     "output_type": "error",
     "traceback": [
      "\u001b[0;31m---------------------------------------------------------------------------\u001b[0m",
      "\u001b[0;31mNameError\u001b[0m                                 Traceback (most recent call last)",
      "Cell \u001b[0;32mIn[1], line 1\u001b[0m\n\u001b[0;32m----> 1\u001b[0m \u001b[43mresults\u001b[49m\n",
      "\u001b[0;31mNameError\u001b[0m: name 'results' is not defined"
     ]
    }
   ],
   "source": [
    "results"
   ]
  },
  {
   "cell_type": "code",
   "execution_count": 21,
   "id": "bff14e3f",
   "metadata": {},
   "outputs": [],
   "source": [
    "import pandas as pd"
   ]
  },
  {
   "cell_type": "code",
   "execution_count": 22,
   "id": "ddaf0925",
   "metadata": {},
   "outputs": [
    {
     "data": {
      "application/vnd.microsoft.datawrangler.viewer.v0+json": {
       "columns": [
        {
         "name": "index",
         "rawType": "int64",
         "type": "integer"
        },
        {
         "name": "level_0",
         "rawType": "object",
         "type": "string"
        },
        {
         "name": "level_1",
         "rawType": "object",
         "type": "string"
        },
        {
         "name": "top1",
         "rawType": "float64",
         "type": "float"
        }
       ],
       "ref": "f0acf259-03b5-443f-846d-ac6953d373fa",
       "rows": [
        [
         "0",
         "Cars",
         "add",
         "0.0"
        ],
        [
         "1",
         "Cars",
         "divide",
         "0.0078125"
        ],
        [
         "2",
         "Cars",
         "multiply",
         "0.015625"
        ],
        [
         "3",
         "Cars",
         "subtract",
         "0.9140625"
        ],
        [
         "4",
         "MNIST",
         "add",
         "0.125"
        ],
        [
         "5",
         "MNIST",
         "divide",
         "0.078125"
        ],
        [
         "6",
         "MNIST",
         "multiply",
         "0.09375"
        ],
        [
         "7",
         "MNIST",
         "subtract",
         "1.0"
        ]
       ],
       "shape": {
        "columns": 3,
        "rows": 8
       }
      },
      "text/html": [
       "<div>\n",
       "<style scoped>\n",
       "    .dataframe tbody tr th:only-of-type {\n",
       "        vertical-align: middle;\n",
       "    }\n",
       "\n",
       "    .dataframe tbody tr th {\n",
       "        vertical-align: top;\n",
       "    }\n",
       "\n",
       "    .dataframe thead th {\n",
       "        text-align: right;\n",
       "    }\n",
       "</style>\n",
       "<table border=\"1\" class=\"dataframe\">\n",
       "  <thead>\n",
       "    <tr style=\"text-align: right;\">\n",
       "      <th></th>\n",
       "      <th>level_0</th>\n",
       "      <th>level_1</th>\n",
       "      <th>top1</th>\n",
       "    </tr>\n",
       "  </thead>\n",
       "  <tbody>\n",
       "    <tr>\n",
       "      <th>0</th>\n",
       "      <td>Cars</td>\n",
       "      <td>add</td>\n",
       "      <td>0.000000</td>\n",
       "    </tr>\n",
       "    <tr>\n",
       "      <th>1</th>\n",
       "      <td>Cars</td>\n",
       "      <td>divide</td>\n",
       "      <td>0.007812</td>\n",
       "    </tr>\n",
       "    <tr>\n",
       "      <th>2</th>\n",
       "      <td>Cars</td>\n",
       "      <td>multiply</td>\n",
       "      <td>0.015625</td>\n",
       "    </tr>\n",
       "    <tr>\n",
       "      <th>3</th>\n",
       "      <td>Cars</td>\n",
       "      <td>subtract</td>\n",
       "      <td>0.914062</td>\n",
       "    </tr>\n",
       "    <tr>\n",
       "      <th>4</th>\n",
       "      <td>MNIST</td>\n",
       "      <td>add</td>\n",
       "      <td>0.125000</td>\n",
       "    </tr>\n",
       "    <tr>\n",
       "      <th>5</th>\n",
       "      <td>MNIST</td>\n",
       "      <td>divide</td>\n",
       "      <td>0.078125</td>\n",
       "    </tr>\n",
       "    <tr>\n",
       "      <th>6</th>\n",
       "      <td>MNIST</td>\n",
       "      <td>multiply</td>\n",
       "      <td>0.093750</td>\n",
       "    </tr>\n",
       "    <tr>\n",
       "      <th>7</th>\n",
       "      <td>MNIST</td>\n",
       "      <td>subtract</td>\n",
       "      <td>1.000000</td>\n",
       "    </tr>\n",
       "  </tbody>\n",
       "</table>\n",
       "</div>"
      ],
      "text/plain": [
       "  level_0   level_1      top1\n",
       "0    Cars       add  0.000000\n",
       "1    Cars    divide  0.007812\n",
       "2    Cars  multiply  0.015625\n",
       "3    Cars  subtract  0.914062\n",
       "4   MNIST       add  0.125000\n",
       "5   MNIST    divide  0.078125\n",
       "6   MNIST  multiply  0.093750\n",
       "7   MNIST  subtract  1.000000"
      ]
     },
     "execution_count": 22,
     "metadata": {},
     "output_type": "execute_result"
    }
   ],
   "source": [
    "pd.DataFrame.from_dict(results, orient='index').reset_index().rename(columns={'index': 'dataset_operation'})"
   ]
  },
  {
   "cell_type": "code",
   "execution_count": null,
   "id": "a17725e7",
   "metadata": {},
   "outputs": [],
   "source": []
  }
 ],
 "metadata": {
  "kernelspec": {
   "display_name": "task-vectors",
   "language": "python",
   "name": "python3"
  },
  "language_info": {
   "codemirror_mode": {
    "name": "ipython",
    "version": 3
   },
   "file_extension": ".py",
   "mimetype": "text/x-python",
   "name": "python",
   "nbconvert_exporter": "python",
   "pygments_lexer": "ipython3",
   "version": "3.10.18"
  }
 },
 "nbformat": 4,
 "nbformat_minor": 5
}
